{
 "cells": [
  {
   "cell_type": "code",
   "execution_count": 4,
   "metadata": {},
   "outputs": [],
   "source": [
    "import cv2\n",
    "ref_point = []\n",
    "crop = False\n",
    "\n",
    "def shape_selection(event,x,y,flags,param):\n",
    "    global ref_point, crop\n",
    "\n",
    "    if event ==  cv2.EVENT_LBUTTONDOWN:\n",
    "        ref_point = [(x,y)]\n",
    "\n",
    "    elif event == cv2.EVENT_LBUTTONUP:\n",
    "        ref_point.append((x,y))\n",
    "        cv2.rectangle(image, ref_point[0], ref_point[1], (0,255,0), 2)\n",
    "        cv2.imshow(\"image\", image)\n",
    "\n",
    "\n",
    "image = cv2.imread('dhoni.jpg')\n",
    "clone =image.copy()\n",
    "\n",
    "#mouse callback function\n",
    "cv2.namedWindow('image')\n",
    "cv2.setMouseCallback('image', shape_selection) #shape_selection ->create refernce point\n",
    "\n",
    "\n",
    "while True:\n",
    "    cv2.imshow('image',image)\n",
    "    key = cv2.waitKey(1) #waitkey 1 sec\n",
    "  \n",
    " #r for reset of selection\n",
    "    if key == ord('r'):\n",
    "        image = clone.copy()\n",
    "#crop the image\n",
    "    elif key == ord('c'):\n",
    "        break\n",
    "\n",
    "if len(ref_point) == 2:\n",
    "    crop_image = clone[ref_point[0][1]:ref_point[1][1], ref_point[0][0]:ref_point[1][0]]\n",
    "    cv2.imshow('crop_image',crop_image)\n",
    "    cv2.waitKey(0)\n",
    "cv2.destroyAllWindows()"
   ]
  }
 ],
 "metadata": {
  "kernelspec": {
   "display_name": "Python 3",
   "language": "python",
   "name": "python3"
  },
  "language_info": {
   "codemirror_mode": {
    "name": "ipython",
    "version": 3
   },
   "file_extension": ".py",
   "mimetype": "text/x-python",
   "name": "python",
   "nbconvert_exporter": "python",
   "pygments_lexer": "ipython3",
   "version": "3.6.5"
  }
 },
 "nbformat": 4,
 "nbformat_minor": 2
}
